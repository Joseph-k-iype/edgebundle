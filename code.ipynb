{
 "cells": [
  {
   "cell_type": "code",
   "execution_count": 1,
   "metadata": {},
   "outputs": [
    {
     "data": {
      "text/plain": [
       "{'nodes': [{'id': 0, 'l': 'Domain1', 'c': '#af2bbf'},\n",
       "  {'id': 1, 'l': 'Domain1', 'c': '#af2bbf'},\n",
       "  {'id': 2, 'l': 'Domain2', 'c': '#af2bbf'},\n",
       "  {'id': 3, 'l': 'Domain2', 'c': '#af2bbf'},\n",
       "  {'id': 4, 'l': 'Domain3', 'c': '#af2bbf'},\n",
       "  {'id': 5, 'l': 'Domain3', 'c': '#af2bbf'},\n",
       "  {'id': 6, 'l': 'Domain4', 'c': '#af2bbf'},\n",
       "  {'id': 7, 'l': 'Domain4', 'c': '#af2bbf'},\n",
       "  {'id': 8, 'l': 'Domain5', 'c': '#af2bbf'}]}"
      ]
     },
     "execution_count": 1,
     "metadata": {},
     "output_type": "execute_result"
    }
   ],
   "source": [
    "data = [\n",
    "    {\"domain\": \"Domain1\", \"sourceSystem\": \"SystemA\", \"table\": \"Table1\"},\n",
    "    {\"domain\": \"Domain1\", \"sourceSystem\": \"SystemA\", \"table\": \"Table2\"},\n",
    "    {\"domain\": \"Domain2\", \"sourceSystem\": \"SystemB\", \"table\": \"Table3\"},\n",
    "    {\"domain\": \"Domain2\", \"sourceSystem\": \"SystemB\", \"table\": \"Table1\"},\n",
    "    {\"domain\": \"Domain3\", \"sourceSystem\": \"SystemC\", \"table\": \"Table4\"},\n",
    "    {\"domain\": \"Domain3\", \"sourceSystem\": \"SystemC\", \"table\": \"Table5\"},\n",
    "    {\"domain\": \"Domain4\", \"sourceSystem\": \"SystemD\", \"table\": \"Table6\"},\n",
    "    {\"domain\": \"Domain4\", \"sourceSystem\": \"SystemD\", \"table\": \"Table2\"},\n",
    "    {\"domain\": \"Domain5\", \"sourceSystem\": \"SystemE\", \"table\": \"Table7\"}\n",
    "]\n",
    "\n",
    "# Generating nodes based on unique domain-sourceSystem-table combinations\n",
    "nodes = []\n",
    "for i, item in enumerate(data):\n",
    "    # Assuming a direct mapping for label (using domain name) and a generic color\n",
    "    nodes.append({\n",
    "        \"id\": i,\n",
    "        \"l\": item[\"domain\"],\n",
    "        \"c\": \"#af2bbf\"  # Assigning a generic color for simplicity\n",
    "\n",
    "    })\n",
    "\n",
    "# Since there's no clear rule for generating edges from the given data, leaving it out\n",
    "converted_data = {\n",
    "    \"nodes\": nodes\n",
    "}\n",
    "\n",
    "converted_data\n"
   ]
  },
  {
   "cell_type": "code",
   "execution_count": 2,
   "metadata": {},
   "outputs": [
    {
     "data": {
      "text/plain": [
       "{'nodes': [{'id': 0, 'l': 'Domain1', 'c': '#af2bbf'},\n",
       "  {'id': 1, 'l': 'Domain1', 'c': '#af2bbf'},\n",
       "  {'id': 2, 'l': 'Domain2', 'c': '#af2bbf'},\n",
       "  {'id': 3, 'l': 'Domain2', 'c': '#af2bbf'},\n",
       "  {'id': 4, 'l': 'Domain3', 'c': '#af2bbf'},\n",
       "  {'id': 5, 'l': 'Domain3', 'c': '#af2bbf'},\n",
       "  {'id': 6, 'l': 'Domain4', 'c': '#af2bbf'},\n",
       "  {'id': 7, 'l': 'Domain4', 'c': '#af2bbf'},\n",
       "  {'id': 8, 'l': 'Domain5', 'c': '#af2bbf'}],\n",
       " 'edges': [{'id': 0, 's': 0, 't': 1},\n",
       "  {'id': 1, 's': 2, 't': 3},\n",
       "  {'id': 2, 's': 4, 't': 5},\n",
       "  {'id': 3, 's': 6, 't': 7}]}"
      ]
     },
     "execution_count": 2,
     "metadata": {},
     "output_type": "execute_result"
    }
   ],
   "source": [
    "# Group nodes by domain to prepare for edge creation\n",
    "from collections import defaultdict\n",
    "\n",
    "# Create a dictionary where each domain maps to its node IDs\n",
    "domain_to_nodes = defaultdict(list)\n",
    "for node in nodes:\n",
    "    domain_to_nodes[node['l']].append(node['id'])\n",
    "\n",
    "# Create edges between nodes within the same domain\n",
    "edges = []\n",
    "edge_id = 0\n",
    "for node_ids in domain_to_nodes.values():\n",
    "    # Create edges between all pairs of nodes within the same domain\n",
    "    for i in range(len(node_ids)):\n",
    "        for j in range(i + 1, len(node_ids)):\n",
    "            edges.append({\n",
    "                \"id\": edge_id,\n",
    "                \"s\": node_ids[i],\n",
    "                \"t\": node_ids[j]\n",
    "            })\n",
    "            edge_id += 1\n",
    "\n",
    "# Including edges in the converted data\n",
    "converted_data_with_edges = {\n",
    "    \"nodes\": nodes,\n",
    "    \"edges\": edges\n",
    "}\n",
    "\n",
    "converted_data_with_edges\n"
   ]
  },
  {
   "cell_type": "code",
   "execution_count": 3,
   "metadata": {},
   "outputs": [
    {
     "data": {
      "text/plain": [
       "([{'id': 0, 'l': 'Domain1', 'c': '#af2bbf'},\n",
       "  {'id': 0, 'l': 'SystemA', 'c': '#af2bbf'},\n",
       "  {'id': 0, 'l': 'Table1', 'c': '#af2bbf'},\n",
       "  {'id': 1, 'l': 'Table2', 'c': '#af2bbf'},\n",
       "  {'id': 1, 'l': 'Domain2', 'c': '#af2bbf'},\n",
       "  {'id': 1, 'l': 'SystemB', 'c': '#af2bbf'},\n",
       "  {'id': 2, 'l': 'Table3', 'c': '#af2bbf'},\n",
       "  {'id': 2, 'l': 'Domain3', 'c': '#af2bbf'},\n",
       "  {'id': 2, 'l': 'SystemC', 'c': '#af2bbf'},\n",
       "  {'id': 3, 'l': 'Table4', 'c': '#af2bbf'},\n",
       "  {'id': 4, 'l': 'Table5', 'c': '#af2bbf'},\n",
       "  {'id': 3, 'l': 'Domain4', 'c': '#af2bbf'},\n",
       "  {'id': 3, 'l': 'SystemD', 'c': '#af2bbf'},\n",
       "  {'id': 5, 'l': 'Table6', 'c': '#af2bbf'},\n",
       "  {'id': 4, 'l': 'Domain5', 'c': '#af2bbf'},\n",
       "  {'id': 4, 'l': 'SystemE', 'c': '#af2bbf'},\n",
       "  {'id': 6, 'l': 'Table7', 'c': '#af2bbf'}],\n",
       " [{'id': 0, 's': 0, 't': 0},\n",
       "  {'id': 1, 's': 0, 't': 0},\n",
       "  {'id': 2, 's': 0, 't': 0},\n",
       "  {'id': 3, 's': 0, 't': 1},\n",
       "  {'id': 4, 's': 1, 't': 1},\n",
       "  {'id': 5, 's': 1, 't': 2},\n",
       "  {'id': 6, 's': 1, 't': 1},\n",
       "  {'id': 7, 's': 1, 't': 0},\n",
       "  {'id': 8, 's': 2, 't': 2},\n",
       "  {'id': 9, 's': 2, 't': 3},\n",
       "  {'id': 10, 's': 2, 't': 2},\n",
       "  {'id': 11, 's': 2, 't': 4},\n",
       "  {'id': 12, 's': 3, 't': 3},\n",
       "  {'id': 13, 's': 3, 't': 5},\n",
       "  {'id': 14, 's': 3, 't': 3},\n",
       "  {'id': 15, 's': 3, 't': 1},\n",
       "  {'id': 16, 's': 4, 't': 4},\n",
       "  {'id': 17, 's': 4, 't': 6}])"
      ]
     },
     "execution_count": 3,
     "metadata": {},
     "output_type": "execute_result"
    }
   ],
   "source": [
    "# Correcting and completing the script to generate nodes and edges\n",
    "\n",
    "# Initialize dictionaries to keep track of unique entities and their IDs\n",
    "domain_ids = {}\n",
    "source_system_ids = {}\n",
    "table_ids = {}\n",
    "\n",
    "# Initialize lists for nodes and edges\n",
    "nodes = []\n",
    "edges = []\n",
    "\n",
    "# Color for nodes\n",
    "color = \"#af2bbf\"\n",
    "\n",
    "# Helper function to add node and ensure uniqueness\n",
    "def add_node(entity_dict, entity, label, nodes_list):\n",
    "    if entity not in entity_dict:\n",
    "        entity_id = len(entity_dict)\n",
    "        entity_dict[entity] = entity_id\n",
    "        nodes_list.append({\"id\": entity_id, \"l\": label, \"c\": color})\n",
    "    return entity_dict[entity]\n",
    "\n",
    "# Helper function to add edge\n",
    "def add_edge(source_id, target_id, edges_list):\n",
    "    edge_id = len(edges_list)\n",
    "    edges_list.append({\"id\": edge_id, \"s\": source_id, \"t\": target_id})\n",
    "\n",
    "# Process the data to generate nodes and edges\n",
    "for item in data:\n",
    "    domain_id = add_node(domain_ids, item['domain'], item['domain'], nodes)\n",
    "    source_system_id = add_node(source_system_ids, item['sourceSystem'], item['sourceSystem'], nodes)\n",
    "    table_id = add_node(table_ids, item['table'], item['table'], nodes)\n",
    "    \n",
    "    # Add edges domain -> sourceSystem, sourceSystem -> table\n",
    "    add_edge(domain_id, source_system_id, edges)\n",
    "    add_edge(source_system_id, table_id, edges)\n",
    "\n",
    "nodes, edges\n"
   ]
  },
  {
   "cell_type": "code",
   "execution_count": 4,
   "metadata": {},
   "outputs": [
    {
     "data": {
      "text/plain": [
       "[{'id': 0, 's': 0, 't': 0},\n",
       " {'id': 1, 's': 0, 't': 0},\n",
       " {'id': 2, 's': 0, 't': 0},\n",
       " {'id': 3, 's': 0, 't': 1},\n",
       " {'id': 4, 's': 1, 't': 1},\n",
       " {'id': 5, 's': 1, 't': 2},\n",
       " {'id': 6, 's': 1, 't': 1},\n",
       " {'id': 7, 's': 1, 't': 0},\n",
       " {'id': 8, 's': 2, 't': 2},\n",
       " {'id': 9, 's': 2, 't': 3},\n",
       " {'id': 10, 's': 2, 't': 2},\n",
       " {'id': 11, 's': 2, 't': 4},\n",
       " {'id': 12, 's': 3, 't': 3},\n",
       " {'id': 13, 's': 3, 't': 5},\n",
       " {'id': 14, 's': 3, 't': 3},\n",
       " {'id': 15, 's': 3, 't': 1},\n",
       " {'id': 16, 's': 4, 't': 4},\n",
       " {'id': 17, 's': 4, 't': 6}]"
      ]
     },
     "execution_count": 4,
     "metadata": {},
     "output_type": "execute_result"
    }
   ],
   "source": [
    "edges"
   ]
  },
  {
   "cell_type": "code",
   "execution_count": null,
   "metadata": {},
   "outputs": [],
   "source": []
  }
 ],
 "metadata": {
  "kernelspec": {
   "display_name": "Python 3",
   "language": "python",
   "name": "python3"
  },
  "language_info": {
   "codemirror_mode": {
    "name": "ipython",
    "version": 3
   },
   "file_extension": ".py",
   "mimetype": "text/x-python",
   "name": "python",
   "nbconvert_exporter": "python",
   "pygments_lexer": "ipython3",
   "version": "3.11.5"
  }
 },
 "nbformat": 4,
 "nbformat_minor": 2
}
